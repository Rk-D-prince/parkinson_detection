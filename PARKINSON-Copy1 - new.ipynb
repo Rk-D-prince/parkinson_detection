{
 "cells": [
  {
   "cell_type": "code",
   "execution_count": null,
   "id": "20fe5ef1-7764-4fe0-ad76-f91de6867b89",
   "metadata": {},
   "outputs": [],
   "source": [
    "python manage.py runserver\n",
    ".\\venv\\Scripts\\activate"
   ]
  },
  {
   "cell_type": "code",
   "execution_count": null,
   "id": "7b9a7c18",
   "metadata": {},
   "outputs": [],
   "source": [
    "import pandas as pd\n",
    "#list of useful imports that  I will use\n",
    "%matplotlib inline\n",
    "import os\n",
    "\n",
    "import matplotlib.pyplot as plt\n",
    "import pandas as pd\n",
    "import cv2\n",
    "import numpy as np\n",
    "from glob import glob\n",
    "import seaborn as sns\n",
    "import random\n",
    "import pickle\n",
    "\n",
    "from sklearn.metrics import confusion_matrix\n",
    "from sklearn.metrics import roc_curve"
   ]
  },
  {
   "cell_type": "code",
   "execution_count": null,
   "id": "a4529b64",
   "metadata": {},
   "outputs": [],
   "source": [
    "data = pd.read_csv(r'C:\\Users\\RAJA KANNAN\\Music\\PARKINSON\\DATASET\\parkinsons.csv')"
   ]
  },
  {
   "cell_type": "code",
   "execution_count": null,
   "id": "055a9bf6",
   "metadata": {},
   "outputs": [],
   "source": [
    "data"
   ]
  },
  {
   "cell_type": "code",
   "execution_count": null,
   "id": "2b48400e",
   "metadata": {},
   "outputs": [],
   "source": [
    "data.columns"
   ]
  },
  {
   "cell_type": "code",
   "execution_count": null,
   "id": "f91f202e",
   "metadata": {},
   "outputs": [],
   "source": [
    "data.info()"
   ]
  },
  {
   "cell_type": "code",
   "execution_count": null,
   "id": "a25369cc",
   "metadata": {},
   "outputs": [],
   "source": [
    "data.describe()"
   ]
  },
  {
   "cell_type": "code",
   "execution_count": null,
   "id": "6e7a41a9",
   "metadata": {},
   "outputs": [],
   "source": [
    "data.isnull().sum()"
   ]
  },
  {
   "cell_type": "code",
   "execution_count": null,
   "id": "76e79ec3",
   "metadata": {},
   "outputs": [],
   "source": [
    "data.isnull().any()"
   ]
  },
  {
   "cell_type": "code",
   "execution_count": null,
   "id": "7e209fce",
   "metadata": {},
   "outputs": [],
   "source": [
    "data.drop('name',axis=1,inplace=True)"
   ]
  },
  {
   "cell_type": "code",
   "execution_count": null,
   "id": "7409f30f",
   "metadata": {},
   "outputs": [],
   "source": [
    "data.corr()"
   ]
  },
  {
   "cell_type": "code",
   "execution_count": null,
   "id": "42ab26b6",
   "metadata": {},
   "outputs": [],
   "source": [
    "data['status'].value_counts()"
   ]
  },
  {
   "cell_type": "code",
   "execution_count": null,
   "id": "cb90230d",
   "metadata": {},
   "outputs": [],
   "source": [
    "#counts of top 10 drugs\n",
    "sns.set(style=\"whitegrid\")\n",
    "plt.figure(figsize=(10, 5))\n",
    "ax = sns.countplot(x=\"status\", data=data, palette=sns.color_palette(\"cubehelix\", 4))\n",
    "plt.xticks(rotation=90)\n",
    "plt.title(\"Class Label Counts\", {\"fontname\":\"fantasy\", \"fontweight\":\"bold\", \"fontsize\":\"medium\"})\n",
    "plt.ylabel(\"count\", {\"fontname\": \"serif\", \"fontweight\":\"bold\"})\n",
    "plt.xlabel(\"Class\", {\"fontname\": \"serif\", \"fontweight\":\"bold\"}) "
   ]
  },
  {
   "cell_type": "code",
   "execution_count": null,
   "id": "dde46ca5",
   "metadata": {},
   "outputs": [],
   "source": [
    "from sklearn.utils import resample\n",
    "# Separate majority and minority classes\n",
    "df_majority = data[data['status']== 1]\n",
    "df_minority = data[data['status']== 0]\n",
    " \n",
    "# Downsample majority class and upsample the minority class\n",
    "df_minority_upsampled = resample(df_minority, replace=True,n_samples=1000,random_state=100) \n",
    "df_majority_downsampled = resample(df_majority, replace=True,n_samples=1000,random_state=100) \n",
    " \n",
    "# Combine minority class with downsampled majority class\n",
    "df_balanced = pd.concat([df_minority_upsampled, df_majority_downsampled])\n",
    " \n",
    "# Display new class counts\n",
    "df_balanced['status'].value_counts()"
   ]
  },
  {
   "cell_type": "code",
   "execution_count": null,
   "id": "3c78126e",
   "metadata": {},
   "outputs": [],
   "source": [
    "sns.countplot(df_balanced[['status']])\n",
    "plt.grid()\n",
    "plt.legend()\n",
    "plt.title(' 0 :not affected & 1 : affected ')\n",
    "plt.show()\n",
    "print(' ')\n",
    "plt.pie([1000,1000],labels=['not affected','affect'],autopct='%.2f%%')\n",
    "plt.legend(loc=(1,0.5))\n",
    "plt.title(' 0 :not affected & 1 : affect ')\n",
    "plt.show()"
   ]
  },
  {
   "cell_type": "code",
   "execution_count": null,
   "id": "dfba44c7",
   "metadata": {},
   "outputs": [],
   "source": [
    "# shuffle the DataFrame rows \n",
    "data1= df_balanced.sample(frac = 1)"
   ]
  },
  {
   "cell_type": "code",
   "execution_count": null,
   "id": "49a7c509",
   "metadata": {},
   "outputs": [],
   "source": [
    "data1"
   ]
  },
  {
   "cell_type": "code",
   "execution_count": null,
   "id": "f4cee7ce",
   "metadata": {},
   "outputs": [],
   "source": [
    "data1.isnull().sum()"
   ]
  },
  {
   "cell_type": "code",
   "execution_count": null,
   "id": "6834fc25",
   "metadata": {},
   "outputs": [],
   "source": [
    "data1.dropna(inplace=True)"
   ]
  },
  {
   "cell_type": "code",
   "execution_count": null,
   "id": "6625387c",
   "metadata": {},
   "outputs": [],
   "source": [
    "data"
   ]
  },
  {
   "cell_type": "code",
   "execution_count": null,
   "id": "b30507d0",
   "metadata": {
    "scrolled": true
   },
   "outputs": [],
   "source": [
    "#  get the all features except \"status\"\n",
    "x = data.loc[:, data.columns != 'status']\n"
   ]
  },
  {
   "cell_type": "code",
   "execution_count": null,
   "id": "9ab27b43",
   "metadata": {},
   "outputs": [],
   "source": [
    "x"
   ]
  },
  {
   "cell_type": "code",
   "execution_count": null,
   "id": "739f9dda",
   "metadata": {},
   "outputs": [],
   "source": [
    "y=data.iloc[:,-7]\n"
   ]
  },
  {
   "cell_type": "code",
   "execution_count": null,
   "id": "b8560f24",
   "metadata": {},
   "outputs": [],
   "source": [
    "y"
   ]
  },
  {
   "cell_type": "code",
   "execution_count": null,
   "id": "c4767696",
   "metadata": {},
   "outputs": [],
   "source": [
    "x.head()"
   ]
  },
  {
   "cell_type": "code",
   "execution_count": null,
   "id": "79c2e0fc",
   "metadata": {},
   "outputs": [],
   "source": [
    "y.tail()"
   ]
  },
  {
   "cell_type": "code",
   "execution_count": null,
   "id": "8bcdae91",
   "metadata": {},
   "outputs": [],
   "source": [
    "from sklearn.model_selection import train_test_split\n",
    "x_train,x_test,y_train,y_test = train_test_split(x,y,test_size=0.20,stratify=y ,random_state=40)"
   ]
  },
  {
   "cell_type": "code",
   "execution_count": null,
   "id": "69b6f47c",
   "metadata": {},
   "outputs": [],
   "source": [
    "x_train"
   ]
  },
  {
   "cell_type": "code",
   "execution_count": null,
   "id": "8b4bfd3b",
   "metadata": {
    "scrolled": true
   },
   "outputs": [],
   "source": [
    "y_test"
   ]
  },
  {
   "cell_type": "code",
   "execution_count": null,
   "id": "4640de8b",
   "metadata": {},
   "outputs": [],
   "source": [
    "#x_test.to_csv('Parkinsons_test.csv',index = False)"
   ]
  },
  {
   "cell_type": "markdown",
   "id": "462fcf7f",
   "metadata": {},
   "source": [
    "## SUPPORT VECTOR MACHINE"
   ]
  },
  {
   "cell_type": "code",
   "execution_count": null,
   "id": "76b5c26d",
   "metadata": {},
   "outputs": [],
   "source": [
    "from sklearn.svm import SVC\n",
    "from sklearn.calibration import CalibratedClassifierCV\n",
    "import math\n",
    "from sklearn.metrics import accuracy_score\n",
    "\n",
    "\n",
    "train_auc = []\n",
    "cv_auc = []\n",
    "\n",
    "\n",
    "model = SVC() \n",
    "#clf = CalibratedClassifierCV(model, cv=8)\n",
    "model.fit(x_train,y_train)\n",
    "prob_cv = model.predict(x_test)\n",
    "cv_auc.append(accuracy_score(y_test,prob_cv))\n",
    "prob_train = model.predict(x_train)\n",
    "train_auc.append(accuracy_score(y_train,prob_train))\n",
    "#optimal_C= C[cv_auc.index(max(cv_auc))]\n",
    "#C=[math.log(x) for x in C]\n",
    "\n",
    "#plot auc vs alpha\n",
    "# x = plt.subplot( )\n",
    "# x.plot(C, train_auc, label='AUC train')\n",
    "# x.plot(C, cv_auc, label='AUC CV')\n",
    "# plt.title('AUC vs hyperparameter')\n",
    "# plt.xlabel('C')\n",
    "# plt.ylabel('AUC')\n",
    "# x.legend()\n",
    "# plt.show()\n",
    "\n",
    "#print('optimal C for which auc is maximum : ',optimal_C)"
   ]
  },
  {
   "cell_type": "code",
   "execution_count": null,
   "id": "ceb53d44",
   "metadata": {},
   "outputs": [],
   "source": [
    "#gamma = [10,20,30,30,40]"
   ]
  },
  {
   "cell_type": "code",
   "execution_count": null,
   "id": "ab278753",
   "metadata": {
    "scrolled": true
   },
   "outputs": [],
   "source": [
    "#Testing AUC on Test data\n",
    "svc = SVC()\n",
    "\n",
    "svc.fit(x_train,y_train)\n",
    "filename = r'C:\\Users\\RAJA KANNAN\\Music\\PARKINSON\\CODING\\frontend\\svc_park.pkl'\n",
    "pickle.dump(svc, open(filename, 'wb'))\n",
    "#predict on test data and train data\n",
    " \n",
    "y_predtests = svc.predict(x_test)\n",
    "y_predtrains = svc.predict(x_train)\n",
    "\n",
    "print('*'*35)\n",
    "\n",
    "#accuracy on training and testing data\n",
    "\n",
    "print('the accuracy on testing data',accuracy_score(y_test,y_predtests))\n",
    "print('the accuracy on training data',accuracy_score(y_train,y_predtrains))\n",
    "train = accuracy_score(y_train,y_predtrains)\n",
    "test = accuracy_score(y_test,y_predtests)\n",
    "\n",
    "print('*'*35)\n",
    "\n",
    "\n",
    "# Code for drawing seaborn heatmaps\n",
    "class_names = ['not affcted','affect']\n",
    "cm = pd.DataFrame(confusion_matrix(y_test, y_predtests.round()), index=class_names, columns=class_names )\n",
    "fig = plt.figure( )\n",
    "heatmap = sns.heatmap(cm, annot=True, fmt=\"d\")"
   ]
  },
  {
   "cell_type": "code",
   "execution_count": null,
   "id": "132b86ae",
   "metadata": {},
   "outputs": [],
   "source": [
    "original =  ['affected' if x==1 else 'not affected' for x in y_test[:20]]\n",
    "predicted = svc.predict(x_test[:20])\n",
    "pred = []\n",
    "\n",
    "for i in predicted:\n",
    "  if i == 1:\n",
    "    k = 'affected'\n",
    "    pred.append(k)\n",
    "  else:\n",
    "    k = 'not affected'\n",
    "    pred.append(k)\n",
    "# Creating a data frame\n",
    "dfr = pd.DataFrame(list(zip(original, pred,)), \n",
    "               columns =['original_Classlabel', 'predicted_classlebel'])\n",
    "dfr"
   ]
  },
  {
   "cell_type": "code",
   "execution_count": null,
   "id": "4e627d11",
   "metadata": {},
   "outputs": [],
   "source": [
    "all_model_result = pd.DataFrame(columns=[ 'Classifier' , 'Train-Accuracy', 'Test-Accuracy' ])\n",
    "new = ['SUPPORT VECTOR-Classifier',train, test]\n",
    "all_model_result.loc[0] = new"
   ]
  },
  {
   "cell_type": "code",
   "execution_count": null,
   "id": "9903420e",
   "metadata": {},
   "outputs": [],
   "source": [
    "import xgboost as xgb"
   ]
  },
  {
   "cell_type": "code",
   "execution_count": null,
   "id": "c0da50bf",
   "metadata": {},
   "outputs": [],
   "source": [
    "from xgboost import XGBClassifier\n",
    "xgb = XGBClassifier()"
   ]
  },
  {
   "cell_type": "code",
   "execution_count": null,
   "id": "d14b76a6",
   "metadata": {},
   "outputs": [],
   "source": [
    "from sklearn.metrics import accuracy_score,confusion_matrix\n",
    "from sklearn.model_selection import GridSearchCV\n",
    "\n",
    "dept = [1, 5, 10, 50, 100, 500, 1000]\n",
    "n_estimators =  [20, 40, 60, 80, 100, 120]\n",
    "xgb = XGBClassifier()\n",
    "\n",
    "param_grid={'n_estimators':n_estimators , 'max_depth':dept}\n",
    "model = GridSearchCV(xgb,param_grid,scoring='accuracy',n_jobs=-1,cv=3)\n",
    "model.fit(x_train,y_train)\n",
    "print(\"optimal n_estimators\",model.best_estimator_.n_estimators)\n",
    "print(\"optimal max_depth\",model.best_estimator_.max_depth)\n",
    "optimal_n_estimators = model.best_estimator_.n_estimators\n",
    "optimal_max_depth = model.best_estimator_.max_depth"
   ]
  },
  {
   "cell_type": "code",
   "execution_count": null,
   "id": "fe755223",
   "metadata": {},
   "outputs": [],
   "source": [
    "#Testing AUC on Test data\n",
    "\n",
    "\n",
    "xgb.fit(x_train,y_train)\n",
    "filename = r'C:\\Users\\RAJA KANNAN\\Music\\PARKINSON\\CODING\\frontend\\xgb_park.pkl'\n",
    "pickle.dump(xgb, open(filename, 'wb'))\n",
    "#predict on test data and train data\n",
    " \n",
    "y_predtest = xgb.predict(x_test)\n",
    "y_predtrain = xgb.predict(x_train)\n",
    "\n",
    "print('*'*35)\n",
    "\n",
    "#accuracy on training and testing data\n",
    "\n",
    "print('the accuracy on testing data',accuracy_score(y_test,y_predtest))\n",
    "print('the accuracy on training data',accuracy_score(y_train,y_predtrain))\n",
    "train2 = accuracy_score(y_train,y_predtrain)\n",
    "test2 = accuracy_score(y_test,y_predtest)\n",
    "\n",
    "print('*'*35)\n",
    "\n",
    "\n",
    "# Code for drawing seaborn heatmaps\n",
    "class_names =  ['not affected','affected']\n",
    "cm = pd.DataFrame(confusion_matrix(y_test, y_predtest.round()), index=class_names, columns=class_names )\n",
    "fig = plt.figure( )\n",
    "heatmap = sns.heatmap(cm, annot=True, fmt=\"d\")"
   ]
  },
  {
   "cell_type": "code",
   "execution_count": null,
   "id": "6f953d9d",
   "metadata": {
    "scrolled": true
   },
   "outputs": [],
   "source": [
    "original =  ['affected' if x==1 else 'not affected' for x in y_test[:20]]\n",
    "predicted = xgb.predict(x_test[:20])\n",
    "pred = []\n",
    "\n",
    "for i in predicted:\n",
    "  if i == 1:\n",
    "    k = 'affected'\n",
    "    pred.append(k)\n",
    "  else:\n",
    "    k = 'not affected'\n",
    "    pred.append(k)\n",
    "# Creating a data frame\n",
    "dfr = pd.DataFrame(list(zip(original, pred,)), \n",
    "               columns =['original_Classlabel', 'predicted_classlebel'])\n",
    "dfr"
   ]
  },
  {
   "cell_type": "code",
   "execution_count": null,
   "id": "5bad1412",
   "metadata": {},
   "outputs": [],
   "source": [
    "new = ['XGB-Classifier',train2, test2]\n",
    "all_model_result.loc[1] = new"
   ]
  },
  {
   "cell_type": "code",
   "execution_count": null,
   "id": "c0172e21",
   "metadata": {},
   "outputs": [],
   "source": [
    "all_model_result"
   ]
  }
 ],
 "metadata": {
  "kernelspec": {
   "display_name": "Python 3 (ipykernel)",
   "language": "python",
   "name": "python3"
  },
  "language_info": {
   "codemirror_mode": {
    "name": "ipython",
    "version": 3
   },
   "file_extension": ".py",
   "mimetype": "text/x-python",
   "name": "python",
   "nbconvert_exporter": "python",
   "pygments_lexer": "ipython3",
   "version": "3.11.7"
  }
 },
 "nbformat": 4,
 "nbformat_minor": 5
}
